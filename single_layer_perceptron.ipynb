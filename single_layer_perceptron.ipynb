{
 "cells": [
  {
   "cell_type": "code",
   "execution_count": 1,
   "metadata": {},
   "outputs": [],
   "source": []
  },
  {
   "cell_type": "code",
   "execution_count": 64,
   "metadata": {},
   "outputs": [],
   "source": [
    "class SLP:\n",
    "    \n",
    "    def __init__(self,learning_rate=0.001,epochs=2000,n_h=4):\n",
    "        self.learning_rate = learning_rate\n",
    "        self.epochs = epochs\n",
    "        self.cost = []\n",
    "        self.n_h = 4\n",
    "        self.n_x = None\n",
    "        self.n_y = 1\n",
    "        \n",
    "    def sigmoid(self,z):\n",
    "        a = 1 / (1+np.exp(-z))\n",
    "        return a\n",
    "    \n",
    "    def tanh(self,z):\n",
    "        a = (np.exp(z) - np.exp(-z))/(np.exp(z) + np.exp(-z))\n",
    "        return a\n",
    "        \n",
    "    def initialize_weights(self):\n",
    "        self.w1 = np.random.randn(self.n_h,self.n_x) * 0.01\n",
    "        self.b1 = np.zeros((self.n_h,1))\n",
    "        \n",
    "        self.w2 = np.random.randn(self.n_y,self.n_h) * 0.01\n",
    "        self.b2 = np.zeros((self.n_y,1))\n",
    "        \n",
    "    def forward_propagation(self):\n",
    "        self.z1 = np.dot(self.w1,self.x_train) + self.b1\n",
    "        self.a1 = self.tanh(self.z1)\n",
    "\n",
    "        self.z2 = np.dot(self.w2,self.a1) + self.b2\n",
    "        self.a2 = self.sigmoid(self.z2)\n",
    "        \n",
    "    def compute_cost(self):\n",
    "        self.cost.append((-1*(np.sum(self.y_train*np.log(self.a2)+(1-self.y_train)*np.log(1-self.a2))))/self.m)\n",
    "        \n",
    "    def update_weights(self):\n",
    "        self.dz2 = self.a2 - self.y_train\n",
    "        self.dw2 = np.dot(self.dz2,self.a1.T)/self.m\n",
    "        self.db2 = np.sum(self.dz2,axis = 1 ,keepdims = True)\n",
    "        \n",
    "        self.dz1 = np.dot(self.w2.T,self.dz2) * (1-np.power(self.a1,2))\n",
    "        self.dw1 = np.dot(self.dz1,self.x_train.T)/self.m\n",
    "        self.db1 = np.sum(self.dz1,axis = 1, keepdims = True)\n",
    "        \n",
    "        self.w1 = self.w1 - self.learning_rate * self.dw1\n",
    "        self.w2 = self.w2 - self.learning_rate * self.dw2\n",
    "        self.b1 = self.b1 - self.learning_rate * self.db1\n",
    "        self.b2 = self.b2 - self.learning_rate * self.db2\n",
    "        \n",
    "    def fit(self,x,y):\n",
    "        x_train = x /255\n",
    "        self.m = x_train.shape[0]\n",
    "        self.x_train = x_train.reshape(x_train.shape[0],-1).T\n",
    "        \n",
    "        self.n_x = self.x_train.shape[0]\n",
    "        \n",
    "        self.y_train = y.reshape(1,y.shape[0])\n",
    "        self.initialize_weights()\n",
    "        \n",
    "        for i in range(self.epochs):\n",
    "            print(f\"epoch-{i+1}\")\n",
    "            self.forward_propagation()\n",
    "            self.compute_cost()\n",
    "            self.update_weights()"
   ]
  },
  {
   "cell_type": "code",
   "execution_count": 65,
   "metadata": {},
   "outputs": [],
   "source": [
    "import h5py\r\n",
    "hf = h5py.File('train_catvnoncat.h5','r')\r\n",
    "X_train = np.array(hf['train_set_x'])\r\n",
    "\r\n",
    "Y_train = np.array(hf['train_set_y'])"
   ]
  },
  {
   "cell_type": "code",
   "execution_count": 102,
   "metadata": {},
   "outputs": [
    {
     "name": "stdout",
     "output_type": "stream",
     "text": [
      "epoch-1\n",
      "epoch-2\n",
      "epoch-3\n",
      "epoch-4\n",
      "epoch-5\n",
      "epoch-6\n",
      "epoch-7\n",
      "epoch-8\n",
      "epoch-9\n",
      "epoch-10\n",
      "epoch-11\n",
      "epoch-12\n",
      "epoch-13\n",
      "epoch-14\n",
      "epoch-15\n",
      "epoch-16\n",
      "epoch-17\n",
      "epoch-18\n",
      "epoch-19\n",
      "epoch-20\n"
     ]
    }
   ],
   "source": [
    "model = SLP(epochs = 20,n_h=2)\n",
    "model.fit(X_train,Y_train)"
   ]
  },
  {
   "cell_type": "code",
   "execution_count": 103,
   "metadata": {},
   "outputs": [
    {
     "data": {
      "text/plain": [
       "[<matplotlib.lines.Line2D at 0x22b80f95e20>]"
      ]
     },
     "execution_count": 103,
     "metadata": {},
     "output_type": "execute_result"
    },
    {
     "data": {
      "image/png": "[encoded data removed]",
      "text/plain": [
       "<Figure size 576x396 with 1 Axes>"
      ]
     },
     "metadata": {},
     "output_type": "display_data"
    }
   ],
   "source": [
    "import matplotlib.pyplot as plt\n",
    "epochs=[i for i in range(model.epochs)]\n",
    "plt.style.use('seaborn')\n",
    "plt.plot(epochs,model.cost)"
   ]
  },
  {
   "cell_type": "code",
   "execution_count": 104,
   "metadata": {},
   "outputs": [
    {
     "name": "stdout",
     "output_type": "stream",
     "text": [
      "0.6508327826546715\n"
     ]
    }
   ],
   "source": [
    "print(min(model.cost))"
   ]
  },
  {
   "cell_type": "code",
   "execution_count": null,
   "metadata": {},
   "outputs": [],
   "source": []
  }
 ],
 "metadata": {
  "kernelspec": {
   "display_name": "Python 3",
   "language": "python",
   "name": "python3"
  },
  "language_info": {
   "codemirror_mode": {
    "name": "ipython",
    "version": 3
   },
   "file_extension": ".py",
   "mimetype": "text/x-python",
   "name": "python",
   "nbconvert_exporter": "python",
   "pygments_lexer": "ipython3",
   "version": "3.8.6"
  }
 },
 "nbformat": 4,
 "nbformat_minor": 4
}